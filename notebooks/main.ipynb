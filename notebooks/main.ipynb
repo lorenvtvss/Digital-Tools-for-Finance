{
 "cells": [
  {
   "cell_type": "markdown",
   "id": "a29c24df",
   "metadata": {},
   "source": [
    "# Digital Tools for Finance - Project\n",
    "**Research Question:**\\\n",
    "What is the effect of the U.S. GDP growth rate on different S&P500 sector indices' market capitalizations\\\n",
    "\n",
    "**Authors:**\\\n",
    "Jonas Neller, 21-730-676\\\n",
    "Lorena Tassone, 18-700-237\\\n",
    "Naomi Huser, 17-056-201"
   ]
  },
  {
   "cell_type": "markdown",
   "id": "c22237f3",
   "metadata": {},
   "source": [
    "## ToDo List:\n",
    "API einrichten mit FRED\\\n",
    "Up- and downstream functions for database\\\n",
    "Data cleaning\\\n",
    "Regressions\\\n",
    "plots\\\n",
    "\n",
    "create docker container for jupyter-notebook and app\n",
    "\n",
    "overleaf doc\\\n",
    "overleaf presentation\n",
    "\n",
    "--> interactive app\\\n",
    "--> jupyter notebook \\\n",
    "--> good comments in code and github commits!\n",
    "\n",
    "\n",
    "Notes:\n",
    "- Fore presentation use beamer!\\\n",
    "- Use ipywidget for app of Jupyter Notebook!"
   ]
  },
  {
   "cell_type": "markdown",
   "id": "92abcc26",
   "metadata": {},
   "source": [
    "## Data Cleaning"
   ]
  },
  {
   "cell_type": "code",
   "execution_count": 1,
   "id": "13c61eeb",
   "metadata": {},
   "outputs": [],
   "source": [
    "# libraries\n",
    "import numpy as np\n",
    "import pandas as pd\n",
    "import os\n"
   ]
  },
  {
   "cell_type": "code",
   "execution_count": 20,
   "id": "bdb0a6df",
   "metadata": {
    "scrolled": true
   },
   "outputs": [
    {
     "data": {
      "text/html": [
       "<div>\n",
       "<style scoped>\n",
       "    .dataframe tbody tr th:only-of-type {\n",
       "        vertical-align: middle;\n",
       "    }\n",
       "\n",
       "    .dataframe tbody tr th {\n",
       "        vertical-align: top;\n",
       "    }\n",
       "\n",
       "    .dataframe thead th {\n",
       "        text-align: right;\n",
       "    }\n",
       "</style>\n",
       "<table border=\"1\" class=\"dataframe\">\n",
       "  <thead>\n",
       "    <tr style=\"text-align: right;\">\n",
       "      <th></th>\n",
       "      <th>Name</th>\n",
       "      <th>Sector</th>\n",
       "      <th>3/31/2007</th>\n",
       "      <th>6/30/2007</th>\n",
       "      <th>9/30/2007</th>\n",
       "      <th>12/31/2007</th>\n",
       "      <th>3/31/2008</th>\n",
       "      <th>6/30/2008</th>\n",
       "      <th>9/30/2008</th>\n",
       "      <th>12/31/2008</th>\n",
       "      <th>...</th>\n",
       "      <th>12/31/2018</th>\n",
       "      <th>3/31/2019</th>\n",
       "      <th>6/30/2019</th>\n",
       "      <th>9/30/2019</th>\n",
       "      <th>12/31/2019</th>\n",
       "      <th>3/31/2020</th>\n",
       "      <th>6/30/2020</th>\n",
       "      <th>9/30/2020</th>\n",
       "      <th>12/31/2020</th>\n",
       "      <th>1/1/2021</th>\n",
       "    </tr>\n",
       "  </thead>\n",
       "  <tbody>\n",
       "  </tbody>\n",
       "</table>\n",
       "<p>0 rows × 60 columns</p>\n",
       "</div>"
      ],
      "text/plain": [
       "Empty DataFrame\n",
       "Columns: [Name, Sector, 3/31/2007, 6/30/2007, 9/30/2007, 12/31/2007, 3/31/2008, 6/30/2008, 9/30/2008, 12/31/2008, 3/31/2009, 6/30/2009, 9/30/2009, 12/31/2009, 3/31/2010, 6/30/2010, 9/30/2010, 12/31/2010, 3/31/2011, 6/30/2011, 9/30/2011, 12/31/2011, 3/31/2012, 6/30/2012, 9/30/2012, 12/31/2012, 3/31/2013, 6/30/2013, 9/30/2013, 12/31/2013, 1/1/2014, 3/31/2014, 6/30/2014, 9/30/2014, 12/31/2014, 3/31/2015, 6/30/2015, 9/30/2015, 12/31/2015, 3/31/2016, 6/30/2016, 9/30/2016, 12/31/2016, 3/31/2017, 6/30/2017, 9/30/2017, 12/31/2017, 3/31/2018, 6/30/2018, 9/30/2018, 12/31/2018, 3/31/2019, 6/30/2019, 9/30/2019, 12/31/2019, 3/31/2020, 6/30/2020, 9/30/2020, 12/31/2020, 1/1/2021]\n",
       "Index: []\n",
       "\n",
       "[0 rows x 60 columns]"
      ]
     },
     "execution_count": 20,
     "metadata": {},
     "output_type": "execute_result"
    }
   ],
   "source": [
    "data_mcap = pd.read_excel('../data/processed/Data.xlsx', sheet_name='Market_Cap')\n",
    "data_gdp = pd.read_excel('../data/processed/Data.xlsx', sheet_name='Real_GDP')\n",
    "data_unempr = pd.read_excel('../data/processed/Data.xlsx', sheet_name='Unemployment_rate')\n",
    "data_crudeprice = pd.read_excel('../data/processed/Data.xlsx', sheet_name='Crude_price')\n",
    "data_feddebt = pd.read_excel('../data/processed/Data.xlsx', sheet_name='Federal_debt')\n",
    "data_fedrate = pd.read_excel('../data/processed/Data.xlsx', sheet_name='Federal_rate')\n",
    "\n",
    "data_mcap\n",
    "\n",
    "# merge factors by quarterly date \n",
    "\n",
    "# check if nans -> how to treat them?\n",
    "\n",
    "# mcap dataset"
   ]
  },
  {
   "cell_type": "code",
   "execution_count": null,
   "id": "efb12a12",
   "metadata": {},
   "outputs": [],
   "source": []
  },
  {
   "cell_type": "markdown",
   "id": "01ea7431",
   "metadata": {},
   "source": [
    "## Regression"
   ]
  },
  {
   "cell_type": "code",
   "execution_count": null,
   "id": "b82bf74a",
   "metadata": {},
   "outputs": [],
   "source": []
  },
  {
   "cell_type": "code",
   "execution_count": null,
   "id": "24339764",
   "metadata": {},
   "outputs": [],
   "source": []
  }
 ],
 "metadata": {
  "kernelspec": {
   "display_name": "Python 3",
   "language": "python",
   "name": "python3"
  },
  "language_info": {
   "codemirror_mode": {
    "name": "ipython",
    "version": 3
   },
   "file_extension": ".py",
   "mimetype": "text/x-python",
   "name": "python",
   "nbconvert_exporter": "python",
   "pygments_lexer": "ipython3",
   "version": "3.8.5"
  }
 },
 "nbformat": 4,
 "nbformat_minor": 5
}
